{
 "cells": [
  {
   "cell_type": "code",
   "execution_count": 6,
   "metadata": {},
   "outputs": [
    {
     "name": "stderr",
     "output_type": "stream",
     "text": [
      "Fetching 5 files:   0%|          | 0/5 [00:00<?, ?it/s]\n",
      "\u001b[A\n",
      "\n",
      "\u001b[A\u001b[A\n",
      "\n",
      "\n",
      "\u001b[A\u001b[A\u001b[A\n",
      "\n",
      "\n",
      "\n",
      "Downloading (…)7qszSY-unsplash.jpeg: 100%|██████████| 1.19M/1.19M [00:00<00:00, 32.5MB/s]\n",
      "Downloading (…)CbNq3g-unsplash.jpeg: 100%|██████████| 1.40M/1.40M [00:00<00:00, 23.6MB/s]\n",
      "Downloading (…)8ikwFE-unsplash.jpeg: 100%|██████████| 1.17M/1.17M [00:00<00:00, 24.9MB/s]\n",
      "Downloading (…)Hv4fbg-unsplash.jpeg: 100%|██████████| 1.16M/1.16M [00:00<00:00, 23.4MB/s]\n",
      "Downloading (…)jb-cpA-unsplash.jpeg: 100%|██████████| 677k/677k [00:00<00:00, 14.5MB/s]\n",
      "Fetching 5 files: 100%|██████████| 5/5 [00:00<00:00, 20.78it/s]\n"
     ]
    },
    {
     "data": {
      "text/plain": [
       "'/local-scratch/localhome/cra80/Projects/diffusers/fine-tuning/dog'"
      ]
     },
     "execution_count": 6,
     "metadata": {},
     "output_type": "execute_result"
    }
   ],
   "source": [
    "from huggingface_hub import snapshot_download\n",
    "\n",
    "local_dir = \"./dog\"\n",
    "snapshot_download(\n",
    "    \"diffusers/dog-example\",\n",
    "    local_dir=local_dir,\n",
    "    repo_type=\"dataset\",\n",
    "    ignore_patterns=\".gitattributes\",\n",
    ")"
   ]
  },
  {
   "cell_type": "code",
   "execution_count": 1,
   "metadata": {},
   "outputs": [
    {
     "data": {
      "application/vnd.jupyter.widget-view+json": {
       "model_id": "53eee958f5214aaa87b250aceceab639",
       "version_major": 2,
       "version_minor": 0
      },
      "text/plain": [
       "VBox(children=(HTML(value='<center> <img\\nsrc=https://huggingface.co/front/assets/huggingface_logo-noborder.sv…"
      ]
     },
     "metadata": {},
     "output_type": "display_data"
    }
   ],
   "source": [
    "# Push File to hub\n",
    "from huggingface_hub import notebook_login\n",
    "notebook_login()"
   ]
  }
 ],
 "metadata": {
  "kernelspec": {
   "display_name": "diffusers",
   "language": "python",
   "name": "python3"
  },
  "language_info": {
   "codemirror_mode": {
    "name": "ipython",
    "version": 3
   },
   "file_extension": ".py",
   "mimetype": "text/x-python",
   "name": "python",
   "nbconvert_exporter": "python",
   "pygments_lexer": "ipython3",
   "version": "3.8.18"
  },
  "orig_nbformat": 4
 },
 "nbformat": 4,
 "nbformat_minor": 2
}
